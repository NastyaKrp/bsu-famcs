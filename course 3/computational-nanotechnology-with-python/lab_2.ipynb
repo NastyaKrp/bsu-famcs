{
 "cells": [
  {
   "cell_type": "markdown",
   "id": "4fc28a7c-6dab-4e48-a660-17396bfc0786",
   "metadata": {
    "jp-MarkdownHeadingCollapsed": true
   },
   "source": [
    "### Задача 1:\n",
    "\n",
    "Сравнить скорость решения системы линейных алгебраических\n",
    "уравнений с трехдиагональной матрицей с помощью следующих методов (использовать\n",
    "разреженные матрицы везде, где это возможно). Сделать вывод об эффективности\n",
    "методов.\n",
    "\n",
    "scipy.sparse.linalg.spsolve, scipy.sparse.linalg.cgs\n",
    "\n",
    "Сравнение будем проводить на одной матрице большой размерности. Критерием сравнения будет являться время, за которое данная задачу решается.\n",
    "\n",
    "### Решение на языке Python:"
   ]
  },
  {
   "cell_type": "code",
   "execution_count": 1,
   "id": "e090bcf0-5e12-43b5-8460-dd5aa76d2ec7",
   "metadata": {},
   "outputs": [
    {
     "name": "stdout",
     "output_type": "stream",
     "text": [
      "Решение матричного уравнения Ax=b с трехдиагональной матрицей A размерности 5000\n",
      "[-2.47545762  2.76034744  2.8905678  ...  0.35868071  1.04893325\n",
      "  0.2071834 ]\n",
      "    Метод spsolve: 0.004014730453491211\n",
      "[ 110.53425047  186.30670021   28.32362138 ... -204.41285422  -62.43680554\n",
      "   16.2606042 ]\n",
      "    Метод cgs: 3.8028430938720703\n"
     ]
    }
   ],
   "source": [
    "import numpy as np\n",
    "from scipy.sparse.linalg import spsolve, cgs\n",
    "from time import time\n",
    "from scipy.sparse import diags\n",
    "\n",
    "if __name__ == \"__main__\":\n",
    "    n = 5000\n",
    "    \n",
    "    diagonals = [np.random.randint(-20, 21, n)]  # Главная диагональ\n",
    "    diagonals.append(np.random.randint(-20, 21, n-1))  # Верхняя диагональ\n",
    "    diagonals.append(np.random.randint(-20, 21, n-1))  # Нижняя диагональ\n",
    "    A = diags(diagonals, [0, 1, -1], format='csr')  # Создание разреженной матрицы\n",
    "    \n",
    "    b = np.random.randint(-20, 21, n)\n",
    "    \n",
    "    print(\"Решение матричного уравнения Ax=b с трехдиагональной матрицей A размерности\", n)\n",
    "    \n",
    "    start_time = time()\n",
    "    x1 = spsolve(A, b)\n",
    "    print(x1)\n",
    "    finish_time = time()\n",
    "    spsolve_time = finish_time - start_time\n",
    "    print(f\"    Метод spsolve: {spsolve_time}\")\n",
    "    \n",
    "    start_time = time()\n",
    "    x = cgs(A, b)[0]\n",
    "    print(x)\n",
    "    finish_time = time()\n",
    "    cgs_time = finish_time - start_time\n",
    "    print(f\"    Метод cgs: {cgs_time}\")\n"
   ]
  },
  {
   "cell_type": "markdown",
   "id": "643d19bb",
   "metadata": {},
   "source": [
    "Создание трехдиагональной матрицы A и вектора b:\n",
    "\n",
    "diagonals = [np.random.randint(-20, 21, n)]: Создает список diagonals с одним элементом - массивом случайных чисел от -20 до 20 размером n, который будет главной диагональю.\n",
    "\n",
    "diagonals.append(np.random.randint(-20, 21, n-1)): Добавляет в список diagonals массив случайных чисел от -20 до 20 размером n-1, который будет верхней диагональю.\n",
    "\n",
    "diagonals.append(np.random.randint(-20, 21, n-1)): Добавляет в список diagonals массив случайных чисел от -20 до 20 размером n-1, который будет нижней диагональю.\n",
    "\n",
    "A = diags(diagonals, [0, 1, -1], format='csr'): Создает разреженную матрицу A с помощью функции diags, принимая на вход список диагоналей и их смещения. Формат 'csr' указывает на использование формата хранения разреженной матрицы CSR (Compressed Sparse Row).\n",
    "\n",
    "b = np.random.randint(-20, 21, n): Создает вектор b случайных чисел от -20 до 20 размером n."
   ]
  }
 ],
 "metadata": {
  "kernelspec": {
   "display_name": "Python 3 (ipykernel)",
   "language": "python",
   "name": "python3"
  },
  "language_info": {
   "codemirror_mode": {
    "name": "ipython",
    "version": 3
   },
   "file_extension": ".py",
   "mimetype": "text/x-python",
   "name": "python",
   "nbconvert_exporter": "python",
   "pygments_lexer": "ipython3",
   "version": "3.11.8"
  }
 },
 "nbformat": 4,
 "nbformat_minor": 5
}
